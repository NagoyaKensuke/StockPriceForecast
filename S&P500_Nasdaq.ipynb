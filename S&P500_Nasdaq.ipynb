import pandas as pd
import numpy as np
import matplotlib.pyplot as plt
from sklearn.linear_model import LinearRegression
from fredapi import Fred

# FREDからAPIキー
fred = Fred(api_key='API_key')

# マクロ経済データを取得
start_date = '2010-01-01'
end_date = '2024-04-24'

gdp = fred.get_series('GDP', start_date, end_date)
inflation = fred.get_series('CPIAUCSL', start_date, end_date)
unemployment = fred.get_series('UNRATE', start_date, end_date)

# データをデータフレームに統合
data = pd.DataFrame({'GDP': gdp, 'Inflation': inflation, 'Unemployment': unemployment})

# 欠損値を直近の値で埋める
data.fillna(method='ffill', inplace=True)


# 株価データを取得（S&P500とNasdaq）
sp500 = fred.get_series('SP500', start_date, end_date)
nasdaq = fred.get_series('NASDAQCOM', start_date, end_date)
data['SP500'] = sp500
data['Nasdaq'] = nasdaq


# Check for missing values in the target variable
data['SP500'].isnull().sum()
data['Nasdaq'].isnull().sum()

# Removing rows with missing values:
data.dropna(subset=['SP500'], inplace=True)
data.dropna(subset=['Nasdaq'], inplace=True)

# 欠損値を直近の値で埋める
data.fillna(method='ffill', inplace=True)

# 特徴量とターゲットを分割
X = data[['GDP', 'Inflation', 'Unemployment']]
y_sp500 = data['SP500']
y_nasdaq = data['Nasdaq']


# データを可視化
data.plot(subplots=True, figsize=(12, 8))
plt.show()

# 特徴量とターゲットを分割
X = data[['GDP', 'Inflation', 'Unemployment']]
y = data['SP500']

# 線形回帰モデルを作成
model_sp500 = LinearRegression()
model_sp500.fit(X, y_sp500)

model_nasdaq = LinearRegression()
model_nasdaq.fit(X, y_nasdaq)

# 5年先までの株価予測
last_data = data.iloc[-1]
gdp_growth = 0.02  # 年間GDP成長率を仮定
inflation_rate = 0.02  # 年間インフレ率を仮定
unemployment_rate = 0.04  # 失業率を仮定

predicted_data = pd.DataFrame(columns=['GDP', 'Inflation', 'Unemployment', 'SP500', 'Nasdaq'], index=range(1, 6))

for i in range(1, 6):
    gdp_pred = last_data['GDP'] * (1 + gdp_growth) ** i
    inflation_pred = last_data['Inflation'] * (1 + inflation_rate) ** i
    unemployment_pred = unemployment_rate
    
    prediction_data = pd.DataFrame({'GDP': [gdp_pred], 'Inflation': [inflation_pred], 'Unemployment': [unemployment_pred]})
    sp500_pred = model_sp500.predict(prediction_data)
    nasdaq_pred = model_nasdaq.predict(prediction_data)
    
    predicted_data.loc[i] = [gdp_pred, inflation_pred, unemployment_pred, sp500_pred[0], nasdaq_pred[0]]

# グラフの作成
fig, axs = plt.subplots(3, 2, figsize=(12, 12))
axs[0, 0].plot(predicted_data.index, predicted_data['GDP'])
axs[0, 0].set_title('GDP Forecast')
axs[0, 1].plot(predicted_data.index, predicted_data['Inflation'])
axs[0, 1].set_title('Inflation Forecast')
axs[1, 0].plot(predicted_data.index, predicted_data['Unemployment'])
axs[1, 0].set_title('Unemployment Forecast')
axs[1, 1].plot(predicted_data.index, predicted_data['SP500'])
axs[1, 1].set_title('S&P500 Forecast')
axs[2, 0].plot(predicted_data.index, predicted_data['Nasdaq'])
axs[2, 0].set_title('Nasdaq Forecast')
axs[2, 1].axis('off')

plt.tight_layout()
plt.show()
